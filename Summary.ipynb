{
 "cells": [
  {
   "cell_type": "markdown",
   "id": "87304ec9-3721-4866-8389-599ba43763f4",
   "metadata": {},
   "source": [
    "# Summary"
   ]
  },
  {
   "cell_type": "markdown",
   "id": "a643e541-c43f-4497-97e3-d36a6b845205",
   "metadata": {},
   "source": [
    "### The summary of the data set is:"
   ]
  },
  {
   "cell_type": "markdown",
   "id": "59b19fa0-fb5d-4b84-93ec-3b724e0ee248",
   "metadata": {},
   "source": [
    "### There was a lot of missing data in the data set because there are data since 1900."
   ]
  },
  {
   "cell_type": "markdown",
   "id": "468d8b8d-11d7-44ed-b12b-217368f3d508",
   "metadata": {},
   "source": [
    "### After 2015, we have seen large changes in all kinds of data."
   ]
  },
  {
   "cell_type": "markdown",
   "id": "b82c486a-dcfd-47c6-a6a7-e1ab66f6bd6e",
   "metadata": {},
   "source": [
    "### There is data on Energy in the form of \n",
    "### o\tBiofuel,\n",
    "### o\tCoal\n",
    "### o\t Electricity\n",
    "### o\tFossils\n",
    "### o\tGas\n",
    "### o\tHydro\n",
    "### o\tCarbon\n",
    "### o\tNuclear\n",
    "### o\tOil\n",
    "### o\t Renewable\n",
    "### o\t Solar \n",
    "### o\t Wind. "
   ]
  },
  {
   "cell_type": "markdown",
   "id": "73e18942-8c26-4638-b5f5-e548bbea3e69",
   "metadata": {},
   "source": [
    "### •\tThe mean population is 1.054051e+08.\n",
    "### •\tThe standard deviation of the population is 4.665375e+08.\n",
    "### •\tThe minimum value of the population is 1.833000e+03.\n",
    "### •\tThe maximum value of the population is 8.045311e+09.\n",
    "### •\tThe 25% percentile of the population is 1.714291e+06.\n",
    "### •\tThe 50% percentile of the population is 6.998022e+06.\n",
    "### •\tThe 75% percentile of the population is 2.571993e+07"
   ]
  },
  {
   "cell_type": "markdown",
   "id": "b8d032fc-cfbf-45b8-bcd7-e4b56d22fa80",
   "metadata": {},
   "source": [
    "### •\tBiofuel consumption in the USA\n",
    "### o\tThe biofuel consumption in 2012 was 321.98.\n",
    "### o\tThe biofuel consumption in 2022 is 437.59.\n",
    "### o\tThe percentage change is calculated as follows:\n",
    "### o\tTherefore, the percentage change in biofuel consumption from 2012 to 2022 is 35.89%."
   ]
  },
  {
   "cell_type": "markdown",
   "id": "ecb233e0-61e2-4959-8536-577660cf4f56",
   "metadata": {},
   "source": [
    "### Summary of Graph:\n",
    "### •\tThe graph shows the biofuel per capita in Russia and the USA from 2000 to 2020.\n",
    "### •\tIn 2000, the biofuel per capita in Russia was about 2000, while in the USA it was about 10.\n",
    "### •\tIn 2010, the biofuel per capita in Russia was about 1700, while in the USA it was about 100.\n",
    "### •\tIn 2020, the biofuel per capita in Russia was about 210, while in the USA it was about 210.\n",
    "### •\tThe biofuel per capita in Russia has been decreasing since 2000, while the biofuel per capita in the USA has been increasing since 2000.\n",
    "### •\tThe biofuel per capita in Russia and the USA are now about the same.\n",
    "### •\t The biofuel per capita in Russia and the USA are about the same in 2020.\n",
    "### •\tThe graph shows the solar share in electricity in the USA from 1985 to 2020. The solar share in electricity was almost 0% in 1985 and increased to about 1% in 1990. It continued to increase until 2010, when it reached about 1.5%. After 2010, the solar share in electricity started to decrease and reached about 0.5% in 2020.\n",
    "### •\t The solar share in electricity in the USA increased from 1985 to 2010 and then decreased from 2010 to 2020."
   ]
  }
 ],
 "metadata": {
  "kernelspec": {
   "display_name": "Python 3 (ipykernel)",
   "language": "python",
   "name": "python3"
  },
  "language_info": {
   "codemirror_mode": {
    "name": "ipython",
    "version": 3
   },
   "file_extension": ".py",
   "mimetype": "text/x-python",
   "name": "python",
   "nbconvert_exporter": "python",
   "pygments_lexer": "ipython3",
   "version": "3.12.2"
  }
 },
 "nbformat": 4,
 "nbformat_minor": 5
}
