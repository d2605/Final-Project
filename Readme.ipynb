{
 "cells": [
  {
   "cell_type": "markdown",
   "id": "a6e6095e-ad5d-435a-9020-3a5a265a39af",
   "metadata": {},
   "source": [
    "## Welcome to Final Project"
   ]
  },
  {
   "cell_type": "markdown",
   "id": "aa4b0a8b-9290-4d1d-9b2d-09c49ddbbb72",
   "metadata": {},
   "source": [
    "### In this project, we have a data set of OWID-Energy, where OWID stands for our world in data."
   ]
  },
  {
   "cell_type": "markdown",
   "id": "169d3af2-b46e-4bc7-9767-29c435078970",
   "metadata": {},
   "source": [
    "### Data contains the country, year, population, GDP, and various kinds of energy."
   ]
  },
  {
   "cell_type": "markdown",
   "id": "e908bbc0-9630-47bc-b767-dc6646cf3736",
   "metadata": {},
   "source": [
    "### This data will be collected in Jupyter Python notebooks."
   ]
  },
  {
   "cell_type": "markdown",
   "id": "1207982e-e033-4171-8643-8312f858a587",
   "metadata": {},
   "source": [
    "### Data will be cleaned, modified, and characterized."
   ]
  },
  {
   "cell_type": "markdown",
   "id": "2bdb0a19-c76d-40e5-bcde-0718db817bed",
   "metadata": {},
   "source": [
    "### End of the files, there will be some Analyzed graphs."
   ]
  }
 ],
 "metadata": {
  "kernelspec": {
   "display_name": "Python 3 (ipykernel)",
   "language": "python",
   "name": "python3"
  },
  "language_info": {
   "codemirror_mode": {
    "name": "ipython",
    "version": 3
   },
   "file_extension": ".py",
   "mimetype": "text/x-python",
   "name": "python",
   "nbconvert_exporter": "python",
   "pygments_lexer": "ipython3",
   "version": "3.12.2"
  }
 },
 "nbformat": 4,
 "nbformat_minor": 5
}
